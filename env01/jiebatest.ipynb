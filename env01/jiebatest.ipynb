{
 "cells": [
  {
   "cell_type": "code",
   "execution_count": 1,
   "metadata": {},
   "outputs": [
    {
     "ename": "",
     "evalue": "",
     "output_type": "error",
     "traceback": [
      "The Kernel crashed while executing code in the the current cell or a previous cell. Please review the code in the cell(s) to identify a possible cause of the failure. Click <a href='https://aka.ms/vscodeJupyterKernelCrash'>here</a> for more info. View Jupyter <a href='command:jupyter.viewOutput'>log</a> for further details."
     ]
    }
   ],
   "source": [
    "import jieba\n",
    "import jieba.posseg as pseg\n",
    "\n"
   ]
  },
  {
   "cell_type": "code",
   "execution_count": 29,
   "metadata": {},
   "outputs": [
    {
     "name": "stderr",
     "output_type": "stream",
     "text": [
      "Building prefix dict from d:\\Users\\jacob_chuang\\jieba-master\\extra_dict\\dic.txt.px.txt ...\n",
      "Loading model from cache C:\\Users\\JACOB_~1\\AppData\\Local\\Temp\\jieba.u1eae94890f61b6b882810065deb76c2c.cache\n",
      "Loading model cost 0.015 seconds.\n",
      "Prefix dict has been built successfully.\n"
     ]
    }
   ],
   "source": [
    "# 載入繁體辭典\n",
    "jieba.set_dictionary('d:/Users/jacob_chuang/jieba-master/extra_dict/dic.txt.px.txt')\n",
    "jieba.load_userdict(\"d:/Users/jacob_chuang/jieba-master/extra_dict/dic.txt.px.txt\")"
   ]
  },
  {
   "cell_type": "code",
   "execution_count": 30,
   "metadata": {
    "scrolled": true
   },
   "outputs": [
    {
     "name": "stderr",
     "output_type": "stream",
     "text": [
      "Paddle enabled successfully......\n"
     ]
    },
    {
     "name": "stdout",
     "output_type": "stream",
     "text": [
      "精確模式: \n",
      "/ IE/ 當掉/ 無法/ 關閉/ \n",
      "/ AMS/  / 資產報廢/ 申報/ AR01/ ，/ 照片/ 上/ 傳後無法/ 修改/ 或/ 刪除/ ，/ 按存/ 檔會/ 跳/ 出錯/ 誤訊息/ ，/ 請/ 協助/ 處理/ ，/ 謝謝/ !/ \n",
      "/ \n",
      "\n",
      "\n",
      "paddle: IE當/ 掉/ 無法關閉 AMS 資產報廢申報AR01，/ 照片/ 上/ 傳後無法/ 修改/ 或/ 刪/ 除/ ，/ 按/ 存檔/ 會/ 跳出/ 錯誤訊息，請協助處理，/ 謝謝/ !\n",
      "\n",
      "HMM output:['\\n', 'IE', '當掉', '無法', '關閉', '\\n', 'AMS', ' ', '資產報廢', '申報', 'AR01', '，', '照片', '上', '傳後無法', '修改', '或', '刪除', '，', '按存', '檔會', '跳', '出錯', '誤訊息', '，', '請', '協助', '處理', '，', '謝謝', '!', '\\n', '\\n']\n"
     ]
    }
   ],
   "source": [
    "#tt=\"收銀機結帳畫面出現代碼1614.當機.客人有信用卡簽單.無結帳發票.後台也無資料.請協助處理.謝謝\"\n",
    "#tt=\"屏東萬年-值付機 昨日與今日價錢都無法更新麻煩資訊部協助處理\"\n",
    "tt=\"\"\"\n",
    "IE當掉無法關閉\n",
    "AMS 資產報廢申報AR01，照片上傳後無法修改或刪除，按存檔會跳出錯誤訊息，請協助處理，謝謝!\n",
    "\n",
    "\"\"\"\n",
    "text_after_jieba = jieba.cut(tt, cut_all=False) # 精確模式\n",
    "print(\"精確模式: \" + \"/ \".join(text_after_jieba))\n",
    "print('')\n",
    "\n",
    "#text_after_jieba = jieba.cut(tt, cut_all=True) # 全模式\n",
    "#print(\"全模式: \" + \"/ \".join(text_after_jieba))\n",
    "#print('')\n",
    "\n",
    "# 啟用paddle模式\n",
    "jieba.enable_paddle()\n",
    "seg_list = jieba.cut(tt, use_paddle=True)  # 使用paddle\n",
    "print(\"paddle: \" + \"/ \".join(seg_list))\n",
    "print('')\n",
    "\n",
    "words = jieba.cut(tt, HMM=True) #HMM 設為 True\n",
    "words_list = []\n",
    "for word in words:\n",
    "    words_list.append(word)\n",
    "\n",
    "print(f'HMM output:{words_list}')"
   ]
  },
  {
   "cell_type": "code",
   "execution_count": null,
   "metadata": {},
   "outputs": [],
   "source": [
    " "
   ]
  },
  {
   "cell_type": "code",
   "execution_count": 31,
   "metadata": {},
   "outputs": [
    {
     "name": "stdout",
     "output_type": "stream",
     "text": [
      "全模式: / \n",
      "/ / IE/ 當/ 掉/ 無/ 法/ 關/ 閉/ / \n",
      "/ / AMS/ /  / / 資產報廢/ 報廢/ 申/ 報/ AR01/ ，/ 照/ 片/ 上/ 傳/ 後/ 無/ 法/ 修/ 改/ 或/ 刪/ 除/ ，/ 按/ 存/ 檔/ 會/ 跳/ 出/ 錯/ 誤/ 訊/ 息/ ，/ 請/ 協/ 助/ 處/ 理/ ，/ 謝/ 謝/ !/ \n",
      "/ / \n",
      "/ \n"
     ]
    }
   ],
   "source": [
    "text_after_jieba = jieba.cut(tt, cut_all=True) # 全模式\n",
    "print(\"全模式: \" + \"/ \".join(text_after_jieba))"
   ]
  },
  {
   "cell_type": "code",
   "execution_count": 32,
   "metadata": {
    "scrolled": true
   },
   "outputs": [
    {
     "name": "stderr",
     "output_type": "stream",
     "text": [
      "Paddle enabled successfully......\n"
     ]
    },
    {
     "name": "stdout",
     "output_type": "stream",
     "text": [
      "paddle: IE當/ 掉/ 無法關閉 AMS 資產報廢申報AR01，/ 照片/ 上/ 傳後無法/ 修改/ 或/ 刪/ 除/ ，/ 按/ 存檔/ 會/ 跳出/ 錯誤訊息，請協助處理，/ 謝謝/ !\n"
     ]
    }
   ],
   "source": [
    "# 啟用paddle模式\n",
    "jieba.enable_paddle()\n",
    "seg_list = jieba.cut(tt, use_paddle=True)  # 使用paddle\n",
    "print(\"paddle: \" + \"/ \".join(seg_list))"
   ]
  },
  {
   "cell_type": "code",
   "execution_count": 33,
   "metadata": {},
   "outputs": [
    {
     "name": "stdout",
     "output_type": "stream",
     "text": [
      "HMM output:['\\n', 'IE', '當掉', '無法', '關閉', '\\n', 'AMS', ' ', '資產報廢', '申報', 'AR01', '，', '照片', '上', '傳後無法', '修改', '或', '刪除', '，', '按存', '檔會', '跳', '出錯', '誤訊息', '，', '請', '協助', '處理', '，', '謝謝', '!', '\\n', '\\n']\n"
     ]
    }
   ],
   "source": [
    "words = jieba.cut(tt, HMM=True) #HMM 設為 True\n",
    "words_list = []\n",
    "for word in words:\n",
    "    words_list.append(word)\n",
    "\n",
    "print(f'HMM output:{words_list}')"
   ]
  },
  {
   "cell_type": "code",
   "execution_count": 34,
   "metadata": {},
   "outputs": [
    {
     "name": "stdout",
     "output_type": "stream",
     "text": [
      "資產報廢 px\n"
     ]
    }
   ],
   "source": [
    "words = jieba.posseg.cut(tt)\n",
    "for word, flag in words:\n",
    "    if flag == 'px' :\n",
    "        print(f'{word} {flag}')\n"
   ]
  },
  {
   "cell_type": "code",
   "execution_count": null,
   "metadata": {},
   "outputs": [],
   "source": []
  },
  {
   "cell_type": "code",
   "execution_count": 35,
   "metadata": {},
   "outputs": [
    {
     "name": "stdout",
     "output_type": "stream",
     "text": [
      "IE 0.6291982896263157\n",
      "當掉 0.6291982896263157\n",
      "無法 0.6291982896263157\n",
      "關閉 0.6291982896263157\n",
      "AMS 0.6291982896263157\n",
      "資產報廢 0.6291982896263157\n",
      "申報 0.6291982896263157\n",
      "AR01 0.6291982896263157\n",
      "傳後無法 0.6291982896263157\n",
      "刪除 0.6291982896263157\n",
      "按存 0.6291982896263157\n",
      "檔會 0.6291982896263157\n",
      "出錯 0.6291982896263157\n",
      "誤訊息 0.6291982896263157\n",
      "協助 0.6291982896263157\n",
      "處理 0.6291982896263157\n",
      "謝謝 0.6291982896263157\n",
      "照片 0.3814639275063158\n",
      "修改 0.35546870908\n",
      "\n"
     ]
    }
   ],
   "source": [
    "import jieba.analyse\n",
    "\n",
    "# 字符串前面加u表示使用unicode編碼\n",
    "##content = u'中國特色社會主義是我們黨領導的偉大事業，全面推進黨的建設新的偉大工程，是這一偉大事業取得勝利的關鍵所在。黨堅強有力，事業才能興旺發達，國家才能繁榮穩定，人民才能幸福安康。黨的十八大以來，我們黨堅持黨要管黨、從嚴治黨，凝心聚力、直擊積弊、扶正祛邪，黨的建設開創新局面，黨風政風呈現新氣象。習近平總書記圍繞從嚴管黨治黨提出一系列新的重要思想，爲全面推進黨的建設新的偉大工程進一步指明瞭方向。'\n",
    "\n",
    "# 第一個參數：待提取關鍵詞的文本\n",
    "# 第二個參數：返回關鍵詞的數量，重要性從高到低排序\n",
    "# 第三個參數：是否同時返回每個關鍵詞的權重\n",
    "# 第四個參數：詞性過濾，爲空表示不過濾，若提供則僅返回符合詞性要求的關鍵詞\n",
    "keywords = jieba.analyse.extract_tags(tt, topK=20, withWeight=True, allowPOS=())\n",
    "# 訪問提取結果\n",
    "for item in keywords:\n",
    "    # 分別爲關鍵詞和相應的權重\n",
    "    print( item[0], item[1])\n",
    "print()\n",
    "# 同樣是四個參數，但allowPOS默認爲('ns', 'n', 'vn', 'v')\n",
    "# 即僅提取地名、名詞、動名詞、動詞\n",
    "#keywords = jieba.analyse.textrank(tt, topK=20, withWeight=True, allowPOS=('ns', 'n', 'vn', 'v'))\n",
    "keywords = jieba.analyse.textrank(tt, topK=20, withWeight=True, allowPOS=('px'))\n",
    "# 訪問提取結果\n",
    "for item in keywords:\n",
    "    # 分別爲關鍵詞和相應的權重\n",
    "    print( item[0], item[1])"
   ]
  },
  {
   "cell_type": "code",
   "execution_count": 36,
   "metadata": {
    "scrolled": true
   },
   "outputs": [
    {
     "name": "stdout",
     "output_type": "stream",
     "text": [
      "\n",
      ", x\n",
      "IE, eng\n",
      "當掉, v\n",
      "無法, v\n",
      "關閉, v\n",
      "\n",
      ", x\n",
      "AMS, eng\n",
      " , x\n",
      "資產報廢, px\n",
      "申報, nz\n",
      "AR01, eng\n",
      "，, x\n",
      "照片, n\n",
      "上, f\n",
      "傳, v\n",
      "後, nr\n",
      "無法, n\n",
      "修改, v\n",
      "或, c\n",
      "刪除, v\n",
      "，, x\n",
      "按存, v\n",
      "檔會, n\n",
      "跳, v\n",
      "出錯, v\n",
      "誤訊息, n\n",
      "，, x\n",
      "請, v\n",
      "協助, v\n",
      "處理, v\n",
      "，, x\n",
      "謝謝, nr\n",
      "!, x\n",
      "\n",
      ", x\n",
      "\n",
      ", x\n"
     ]
    }
   ],
   "source": [
    "# 加載jieba.posseg並取個別名，方便調用\n",
    "import jieba.posseg as pseg\n",
    "words = pseg.cut(tt)\n",
    "for word, flag in words:\n",
    "    # 格式化模版並傳入參數\n",
    "    print('%s, %s' % (word, flag))"
   ]
  },
  {
   "cell_type": "code",
   "execution_count": 37,
   "metadata": {},
   "outputs": [],
   "source": [
    "from flask import Flask, request, jsonify\n",
    "from flask_cors import CORS\n"
   ]
  },
  {
   "cell_type": "code",
   "execution_count": null,
   "metadata": {},
   "outputs": [],
   "source": []
  },
  {
   "cell_type": "code",
   "execution_count": null,
   "metadata": {},
   "outputs": [],
   "source": []
  }
 ],
 "metadata": {
  "kernelspec": {
   "display_name": "Python 3.7.1 ('base')",
   "language": "python",
   "name": "python3"
  },
  "language_info": {
   "codemirror_mode": {
    "name": "ipython",
    "version": 3
   },
   "file_extension": ".py",
   "mimetype": "text/x-python",
   "name": "python",
   "nbconvert_exporter": "python",
   "pygments_lexer": "ipython3",
   "version": "3.7.1"
  },
  "vscode": {
   "interpreter": {
    "hash": "e42634819b8c191a5d07eaf23810ff32516dd8d3875f28ec3e488928fbd3c187"
   }
  }
 },
 "nbformat": 4,
 "nbformat_minor": 2
}
